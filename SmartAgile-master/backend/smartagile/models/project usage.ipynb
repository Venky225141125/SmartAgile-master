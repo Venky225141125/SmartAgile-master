{
 "cells": [
  {
   "cell_type": "code",
   "execution_count": 11,
   "id": "5dd9d492-7963-42b2-bb30-66b6d78fa941",
   "metadata": {},
   "outputs": [
    {
     "name": "stdout",
     "output_type": "stream",
     "text": [
      "Current script path: C:\\Users\\Admin\\AppData\\Local\\Programs\\Python\\Python312\\Lib\\site-packages\\ipykernel_launcher.py\n",
      "Current script directory: C:\\Users\\Admin\\AppData\\Local\\Programs\\Python\\Python312\\Lib\\site-packages\n"
     ]
    }
   ],
   "source": [
    "import os\n",
    "import sys\n",
    "# Get the absolute path of the current script\n",
    "current_script_path = os.path.realpath(__file__) if '__file__' in globals() else os.path.realpath(sys.argv[0])\n",
    "\n",
    "# Get the directory name of the current script\n",
    "current_script_dir = os.path.dirname(current_script_path)\n",
    "\n",
    "print(f\"Current script path: {current_script_path}\")\n",
    "print(f\"Current script directory: {current_script_dir}\")\n"
   ]
  },
  {
   "cell_type": "code",
   "execution_count": 13,
   "id": "28d4c95c-650c-448b-a1e6-7a3dc384e896",
   "metadata": {},
   "outputs": [],
   "source": []
  },
  {
   "cell_type": "code",
   "execution_count": 1,
   "id": "85959dab-c2f1-4a5b-9095-c9bcf6f5f093",
   "metadata": {},
   "outputs": [
    {
     "name": "stdout",
     "output_type": "stream",
     "text": [
      "All files have been combined successfully!\n"
     ]
    }
   ],
   "source": [
    "import os\n",
    "import pandas as pd\n",
    "\n",
    "# Directory containing the Excel files\n",
    "directory = 'all_exe_sw_files'  # Replace with your directory path\n",
    "\n",
    "# List to store DataFrames\n",
    "all_dataframes = []\n",
    "\n",
    "# Iterate over each file in the directory\n",
    "for filename in os.listdir(directory):\n",
    "    if filename.endswith('.xlsx') or filename.endswith('.xls'):\n",
    "        # Construct full file path\n",
    "        file_path = os.path.join(directory, filename)\n",
    "        # Read the Excel file into a DataFrame\n",
    "        df = pd.read_excel(file_path)\n",
    "        # Append the DataFrame to the list\n",
    "        all_dataframes.append(df)\n",
    "\n",
    "# Concatenate all DataFrames\n",
    "combined_df = pd.concat(all_dataframes, ignore_index=True)\n",
    "\n",
    "# Save the combined DataFrame to a new Excel file\n",
    "combined_df.to_excel('combined.xlsx', index=False)\n",
    "\n",
    "print('All files have been combined successfully!')\n"
   ]
  },
  {
   "cell_type": "code",
   "execution_count": 2,
   "id": "1c62967d-4a41-4e2c-8925-5e27d71c7b04",
   "metadata": {},
   "outputs": [],
   "source": [
    "df=pd.read_excel(\"combined.xlsx\")"
   ]
  },
  {
   "cell_type": "code",
   "execution_count": 10,
   "id": "9c941a44-704e-4424-bb52-307ebf7e4622",
   "metadata": {},
   "outputs": [
    {
     "data": {
      "text/plain": [
       "2880"
      ]
     },
     "execution_count": 10,
     "metadata": {},
     "output_type": "execute_result"
    }
   ],
   "source": [
    "len(df)"
   ]
  },
  {
   "cell_type": "code",
   "execution_count": 4,
   "id": "23f1a716-cbc1-4a6a-934e-aae78d8e5da4",
   "metadata": {},
   "outputs": [
    {
     "data": {
      "text/plain": [
       "1151"
      ]
     },
     "execution_count": 4,
     "metadata": {},
     "output_type": "execute_result"
    }
   ],
   "source": [
    "df.duplicated().sum()"
   ]
  },
  {
   "cell_type": "code",
   "execution_count": 7,
   "id": "5f35abfc-9b2f-4943-909d-cf7c53703a6e",
   "metadata": {},
   "outputs": [],
   "source": [
    "df=df.drop_duplicates()"
   ]
  },
  {
   "cell_type": "code",
   "execution_count": 8,
   "id": "cbca3528-5ab2-4567-abac-4ada4850f71f",
   "metadata": {},
   "outputs": [
    {
     "data": {
      "text/plain": [
       "2880"
      ]
     },
     "execution_count": 8,
     "metadata": {},
     "output_type": "execute_result"
    }
   ],
   "source": [
    "len(df)"
   ]
  },
  {
   "cell_type": "code",
   "execution_count": 9,
   "id": "78d4e90e-6a8c-4d73-a05f-972b44b5e3c1",
   "metadata": {},
   "outputs": [],
   "source": [
    "df.to_excel('combined.xlsx', index=False)"
   ]
  },
  {
   "cell_type": "code",
   "execution_count": 5,
   "id": "44e99b67-3405-4adb-b551-3082c77548b9",
   "metadata": {},
   "outputs": [],
   "source": [
    "import pandas as pd\n",
    "df=pd.read_excel(\"combined.xlsx\")\n",
    "df[\"File_Name\"]=df[\"File_Name\"].str.lower()"
   ]
  },
  {
   "cell_type": "code",
   "execution_count": 6,
   "id": "1f66e56f-1421-4c5e-bd17-689663fa1592",
   "metadata": {},
   "outputs": [
    {
     "name": "stdout",
     "output_type": "stream",
     "text": [
      "The software name for brave.exe is Brave\n"
     ]
    }
   ],
   "source": [
    "exe_to_software = pd.Series(df.Software_Name.values, index=df.File_Name).to_dict()\n",
    "\n",
    "# Now you have a dictionary mapping .exe names to software names\n",
    "# print(exe_to_software)\n",
    "\n",
    "# Example usage\n",
    "exe_file = 'brave.exe'\n",
    "software_name = exe_to_software.get(exe_file, 'Unknown Software')\n",
    "print(f'The software name for {exe_file} is {software_name}')"
   ]
  },
  {
   "cell_type": "code",
   "execution_count": 7,
   "id": "cfa91d08-ba9b-4b08-b513-5dfe5f66a380",
   "metadata": {},
   "outputs": [
    {
     "name": "stdout",
     "output_type": "stream",
     "text": [
      "Dictionary saved to exe_to_software.json\n"
     ]
    }
   ],
   "source": [
    "import json\n",
    "\n",
    "# Save the dictionary to a JSON file\n",
    "with open('exe_to_software.json', 'w') as file:\n",
    "    json.dump(exe_to_software, file)\n",
    "\n",
    "print('Dictionary saved to exe_to_software.json')\n"
   ]
  },
  {
   "cell_type": "code",
   "execution_count": 8,
   "id": "e72a6662-1610-46ec-873c-3cd34c2e4342",
   "metadata": {},
   "outputs": [
    {
     "name": "stdout",
     "output_type": "stream",
     "text": [
      "Dictionary loaded from exe_to_software.json\n"
     ]
    }
   ],
   "source": [
    "import json\n",
    "\n",
    "# Load the dictionary from a JSON file\n",
    "with open('exe_to_software.json', 'r') as file:\n",
    "    exe_to_software = json.load(file)\n",
    "\n",
    "print('Dictionary loaded from exe_to_software.json')\n",
    "# print(exe_to_software)\n"
   ]
  },
  {
   "cell_type": "code",
   "execution_count": 9,
   "id": "c9979648-d440-4c3f-8574-20941ba2d079",
   "metadata": {},
   "outputs": [
    {
     "name": "stdout",
     "output_type": "stream",
     "text": [
      "Brave\n"
     ]
    }
   ],
   "source": [
    "exe_file = 'brave.exe'\n",
    "software_name = exe_to_software.get(exe_file, 'Unknown Software')\n",
    "print(software_name)"
   ]
  },
  {
   "cell_type": "code",
   "execution_count": 11,
   "id": "237442f8-046b-4138-9953-139014d56476",
   "metadata": {},
   "outputs": [
    {
     "name": "stdout",
     "output_type": "stream",
     "text": [
      "The software name for bRAVE.EXE is Brave\n"
     ]
    }
   ],
   "source": [
    "app_name = 'bRAVE.EXE'  # Replace with the actual .exe file name you're searching for\n",
    "\n",
    "# Convert app_name to lowercase\n",
    "\n",
    "\n",
    "# Lookup the software name in the dictionary\n",
    "software_name = exe_to_software.get(app_name.lower(), 'Unknown Software')\n",
    "\n",
    "print(f'The software name for {app_name} is {software_name}')\n"
   ]
  },
  {
   "cell_type": "code",
   "execution_count": null,
   "id": "959bcc66-8470-4c44-8f77-063c1861184a",
   "metadata": {},
   "outputs": [],
   "source": []
  }
 ],
 "metadata": {
  "kernelspec": {
   "display_name": "Python 3 (ipykernel)",
   "language": "python",
   "name": "python3"
  },
  "language_info": {
   "codemirror_mode": {
    "name": "ipython",
    "version": 3
   },
   "file_extension": ".py",
   "mimetype": "text/x-python",
   "name": "python",
   "nbconvert_exporter": "python",
   "pygments_lexer": "ipython3",
   "version": "3.12.4"
  }
 },
 "nbformat": 4,
 "nbformat_minor": 5
}
